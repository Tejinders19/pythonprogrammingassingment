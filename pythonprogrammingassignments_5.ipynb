{
 "cells": [
  {
   "cell_type": "markdown",
   "id": "edb57ee3",
   "metadata": {},
   "source": [
    "<h4>Write a Python Program to Find LCM?"
   ]
  },
  {
   "cell_type": "code",
   "execution_count": 2,
   "id": "87f79da6",
   "metadata": {},
   "outputs": [
    {
     "name": "stdout",
     "output_type": "stream",
     "text": [
      "enter first no = 112\n",
      "enter second no = 256\n",
      "1792\n"
     ]
    }
   ],
   "source": [
    "x=int(input(\"enter first no = \"))\n",
    "y=int(input(\"enter second no = \"))\n",
    "\n",
    "\n",
    "def lcm_find(x,y):\n",
    "    if x>y:\n",
    "        greater=x\n",
    "    else:\n",
    "        greater=y\n",
    "    while(True):\n",
    "        if((greater%x==0) and (greater%y==0)):\n",
    "            lcm=greater\n",
    "            break\n",
    "        greater+=1    \n",
    "    return lcm\n",
    "print(lcm_find(x,y))"
   ]
  },
  {
   "cell_type": "markdown",
   "id": "b8752d95",
   "metadata": {},
   "source": [
    "<h4>Write a Python Program to Find HCF?\n",
    "    "
   ]
  },
  {
   "cell_type": "code",
   "execution_count": 5,
   "id": "94af2ca5",
   "metadata": {},
   "outputs": [
    {
     "name": "stdout",
     "output_type": "stream",
     "text": [
      "enter first no = 10\n",
      "enter second no = 8\n",
      "40\n"
     ]
    }
   ],
   "source": [
    "x=int(input(\"enter first no = \"))\n",
    "y=int(input(\"enter second no = \"))\n",
    "\n",
    "\n",
    "def hcf_find(x,y):\n",
    "    if x>y:\n",
    "        lesser=y\n",
    "    else:\n",
    "        lesser=x\n",
    "    while(True):\n",
    "        if((lesser%x==0) and (lesser%y==0)):\n",
    "            hcf=lesser\n",
    "            break\n",
    "        lesser+=1    \n",
    "    return hcf\n",
    "print(hcf_find(x,y))"
   ]
  },
  {
   "cell_type": "markdown",
   "id": "bfdae5c9",
   "metadata": {},
   "source": [
    "<h4>Write a Python Program to Convert Decimal to Binary, Octal and Hexadecimal?"
   ]
  },
  {
   "cell_type": "code",
   "execution_count": 16,
   "id": "3d979413",
   "metadata": {},
   "outputs": [
    {
     "name": "stdout",
     "output_type": "stream",
     "text": [
      "enter the no = 17\n",
      "0b10001\n",
      "0o21\n",
      "0x11\n"
     ]
    }
   ],
   "source": [
    "no=int(input(\"enter the no = \"))\n",
    "print(bin(no))\n",
    "print(oct(no))\n",
    "print(hex(no))"
   ]
  },
  {
   "cell_type": "markdown",
   "id": "920d364f",
   "metadata": {},
   "source": [
    "<h4>Write a Python Program To Find ASCII value of a character?"
   ]
  },
  {
   "cell_type": "code",
   "execution_count": 18,
   "id": "34428a21",
   "metadata": {},
   "outputs": [
    {
     "name": "stdout",
     "output_type": "stream",
     "text": [
      "enter the characterA\n",
      "65\n"
     ]
    }
   ],
   "source": [
    "val=input(\"enter the character\")\n",
    "print(ord(val))"
   ]
  },
  {
   "cell_type": "markdown",
   "id": "8b8324b9",
   "metadata": {},
   "source": [
    "<h4>Write a Python Program to Make a Simple Calculator with 4 basic mathematical operations?"
   ]
  },
  {
   "cell_type": "code",
   "execution_count": 19,
   "id": "b50f5542",
   "metadata": {},
   "outputs": [
    {
     "name": "stdout",
     "output_type": "stream",
     "text": [
      "Select operation.\n",
      "1.Add\n",
      "2.Subtract\n",
      "3.Multiply\n",
      "4.Divide\n",
      "Enter choice(1/2/3/4): 2\n",
      "Enter first number: 2\n",
      "Enter second number: 5\n",
      "2.0 - 5.0 = -3.0\n",
      "Let's do next calculation? (yes/no): yes\n",
      "Enter choice(1/2/3/4): 1\n",
      "Enter first number: 2\n",
      "Enter second number: 5\n",
      "2.0 + 5.0 = 7.0\n",
      "Let's do next calculation? (yes/no): no\n"
     ]
    }
   ],
   "source": [
    "def add(x, y):\n",
    "    return x + y\n",
    "\n",
    "def subtract(x, y):\n",
    "    return x - y\n",
    "\n",
    "def multiply(x, y):\n",
    "    return x * y\n",
    "\n",
    "def divide(x, y):\n",
    "    return x / y\n",
    "\n",
    "\n",
    "print(\"Select operation.\")\n",
    "print(\"1.Add\")\n",
    "print(\"2.Subtract\")\n",
    "print(\"3.Multiply\")\n",
    "print(\"4.Divide\")\n",
    "\n",
    "while(True):\n",
    "    \n",
    "    choice = input(\"Enter choice(1/2/3/4): \")\n",
    "\n",
    "    \n",
    "    if choice in ('1', '2', '3', '4'):\n",
    "        num1 = float(input(\"Enter first number: \"))\n",
    "        num2 = float(input(\"Enter second number: \"))\n",
    "\n",
    "        if choice == '1':\n",
    "            print(num1, \"+\", num2, \"=\", add(num1, num2))\n",
    "\n",
    "        elif choice == '2':\n",
    "            print(num1, \"-\", num2, \"=\", subtract(num1, num2))\n",
    "\n",
    "        elif choice == '3':\n",
    "            print(num1, \"*\", num2, \"=\", multiply(num1, num2))\n",
    "\n",
    "        elif choice == '4':\n",
    "            print(num1, \"/\", num2, \"=\", divide(num1, num2))\n",
    "        \n",
    "       \n",
    "        next_calculation = input(\"Let's do next calculation? (yes/no): \")\n",
    "        if next_calculation == \"no\":\n",
    "          break\n",
    "    \n",
    "    else:\n",
    "        print(\"Invalid Input\")"
   ]
  },
  {
   "cell_type": "code",
   "execution_count": null,
   "id": "c348c7b1",
   "metadata": {},
   "outputs": [],
   "source": []
  }
 ],
 "metadata": {
  "kernelspec": {
   "display_name": "Python 3",
   "language": "python",
   "name": "python3"
  },
  "language_info": {
   "codemirror_mode": {
    "name": "ipython",
    "version": 3
   },
   "file_extension": ".py",
   "mimetype": "text/x-python",
   "name": "python",
   "nbconvert_exporter": "python",
   "pygments_lexer": "ipython3",
   "version": "3.8.8"
  }
 },
 "nbformat": 4,
 "nbformat_minor": 5
}
