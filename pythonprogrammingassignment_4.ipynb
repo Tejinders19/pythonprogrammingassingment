{
 "cells": [
  {
   "cell_type": "markdown",
   "id": "03386f05",
   "metadata": {},
   "source": [
    "<h4>Write a Python Program to Find the Factorial of a Number?"
   ]
  },
  {
   "cell_type": "code",
   "execution_count": 2,
   "id": "06d60371",
   "metadata": {},
   "outputs": [
    {
     "name": "stdout",
     "output_type": "stream",
     "text": [
      "enter the no 4\n",
      "24\n"
     ]
    }
   ],
   "source": [
    "num=int(input(\"enter the no \"))\n",
    "a=1\n",
    "for i in range(1,num+1):\n",
    "    a=a*i\n",
    "print(a)\n",
    "    "
   ]
  },
  {
   "cell_type": "markdown",
   "id": "25eaecd6",
   "metadata": {},
   "source": [
    "<h4>Write a Python Program to Display the multiplication Table?"
   ]
  },
  {
   "cell_type": "code",
   "execution_count": 5,
   "id": "760d87f1",
   "metadata": {},
   "outputs": [
    {
     "name": "stdout",
     "output_type": "stream",
     "text": [
      "enter the table no3\n",
      "3 x 1 =3 \n",
      "3 x 2 =6 \n",
      "3 x 3 =9 \n",
      "3 x 4 =12 \n",
      "3 x 5 =15 \n",
      "3 x 6 =18 \n",
      "3 x 7 =21 \n",
      "3 x 8 =24 \n",
      "3 x 9 =27 \n",
      "3 x 10 =30 \n"
     ]
    }
   ],
   "source": [
    "num=int(input(\"enter the table no\"))\n",
    "a=1\n",
    "for i in range(1,11):\n",
    "    a=num*i\n",
    "    print(\"{0} x {1} ={2} \".format(num,i,a))"
   ]
  },
  {
   "cell_type": "markdown",
   "id": "722a41b2",
   "metadata": {},
   "source": [
    "<h4>Write a Python Program to Print the Fibonacci sequence?"
   ]
  },
  {
   "cell_type": "code",
   "execution_count": 3,
   "id": "045ed5f0",
   "metadata": {},
   "outputs": [
    {
     "name": "stdout",
     "output_type": "stream",
     "text": [
      "enter the no of which you want to find fibonacci8\n",
      "1\n",
      "1\n",
      "2\n",
      "3\n",
      "5\n",
      "8\n",
      "13\n",
      "21\n"
     ]
    }
   ],
   "source": [
    "num=int(input(\"enter the no of which you want to find fibonacci\"))\n",
    "a=0\n",
    "b=1\n",
    "count=0\n",
    "while count<num:\n",
    "    print(b)\n",
    "    c=a+b\n",
    "    a=b\n",
    "    b=c\n",
    "    count+=1\n",
    "    \n",
    "    "
   ]
  },
  {
   "cell_type": "markdown",
   "id": "f2db8bd3",
   "metadata": {},
   "source": [
    "<h4>Write a Python Program to Check Armstrong Number?"
   ]
  },
  {
   "cell_type": "code",
   "execution_count": 6,
   "id": "180a8588",
   "metadata": {},
   "outputs": [
    {
     "name": "stdout",
     "output_type": "stream",
     "text": [
      "enter the no407\n",
      "it is armstrong\n"
     ]
    }
   ],
   "source": [
    "num=int(input(\"enter the no\"))\n",
    "a=len(str(num))\n",
    "b=num\n",
    "total=0\n",
    "\n",
    "while b>0:\n",
    "    c=b%10\n",
    "    total+=c**a\n",
    "    b//=10\n",
    "if num==total:\n",
    "    \n",
    "    print(\"it is armstrong\")\n",
    "else:\n",
    "    print(\"not a armstrong\")\n",
    "    "
   ]
  },
  {
   "cell_type": "markdown",
   "id": "c26cc4f0",
   "metadata": {},
   "source": [
    "<h4>Write a Python Program to Find Armstrong Number in an Interval?"
   ]
  },
  {
   "cell_type": "code",
   "execution_count": 5,
   "id": "1f3336c7",
   "metadata": {},
   "outputs": [
    {
     "name": "stdout",
     "output_type": "stream",
     "text": [
      "enter the lower range400\n",
      "enter the upper range408\n",
      "407\n"
     ]
    }
   ],
   "source": [
    "lower=int(input(\"enter the lower range\"))\n",
    "upper=int(input(\"enter the upper range\"))\n",
    "\n",
    "\n",
    "for i in range(lower,upper+1):\n",
    "    num=i\n",
    "    a=len(str(i))\n",
    "    total=0\n",
    "    while i>0:\n",
    "        \n",
    "        c=i%10\n",
    "        total+=c**a\n",
    "        i//=10\n",
    "    if total==num:\n",
    "        print(total)\n",
    "        \n",
    "        \n",
    "    \n"
   ]
  },
  {
   "cell_type": "markdown",
   "id": "401653a9",
   "metadata": {},
   "source": [
    "<h4>Write a Python Program to Find the Sum of Natural Numbers?"
   ]
  },
  {
   "cell_type": "code",
   "execution_count": 6,
   "id": "58cc58bb",
   "metadata": {},
   "outputs": [
    {
     "name": "stdout",
     "output_type": "stream",
     "text": [
      "enter the natural num = 5\n",
      "15\n"
     ]
    }
   ],
   "source": [
    "num=int(input(\"enter the natural num = \"))\n",
    "count=0\n",
    "for i in range(1,num+1):\n",
    "    count+=i\n",
    "print(count)\n",
    "    "
   ]
  },
  {
   "cell_type": "code",
   "execution_count": null,
   "id": "4ff1f481",
   "metadata": {},
   "outputs": [],
   "source": []
  }
 ],
 "metadata": {
  "kernelspec": {
   "display_name": "Python 3",
   "language": "python",
   "name": "python3"
  },
  "language_info": {
   "codemirror_mode": {
    "name": "ipython",
    "version": 3
   },
   "file_extension": ".py",
   "mimetype": "text/x-python",
   "name": "python",
   "nbconvert_exporter": "python",
   "pygments_lexer": "ipython3",
   "version": "3.8.8"
  }
 },
 "nbformat": 4,
 "nbformat_minor": 5
}
