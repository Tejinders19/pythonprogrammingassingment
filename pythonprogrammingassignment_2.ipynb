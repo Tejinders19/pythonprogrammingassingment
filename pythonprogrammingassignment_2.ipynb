{
 "cells": [
  {
   "cell_type": "markdown",
   "id": "c9d46912",
   "metadata": {},
   "source": [
    "<h4>Write a Python program to convert kilometers to miles?"
   ]
  },
  {
   "cell_type": "code",
   "execution_count": 5,
   "id": "b7090f84",
   "metadata": {},
   "outputs": [
    {
     "name": "stdout",
     "output_type": "stream",
     "text": [
      "enter the kilometer travel20\n",
      "20.00 km is equal to 12.43 miles\n"
     ]
    }
   ],
   "source": [
    "a=float(input(\"enter the kilometer travel\"))\n",
    "cov_factor=0.621371\n",
    "b=a*cov_factor\n",
    "print('%0.2f km is equal to %0.2f miles'%(a,b))"
   ]
  },
  {
   "cell_type": "markdown",
   "id": "b7538594",
   "metadata": {},
   "source": [
    "<h4>Write a Python program to convert Celsius to Fahrenheit?"
   ]
  },
  {
   "cell_type": "code",
   "execution_count": 6,
   "id": "491203fd",
   "metadata": {},
   "outputs": [
    {
     "name": "stdout",
     "output_type": "stream",
     "text": [
      "enter the temp in celsius5\n",
      "41.0\n"
     ]
    }
   ],
   "source": [
    "a=float(input(\"enter the temp in celsius\"))\n",
    "fah_temp=(a*1.8)+32\n",
    "print(fah_temp)"
   ]
  },
  {
   "cell_type": "markdown",
   "id": "51c43516",
   "metadata": {},
   "source": [
    "<h4>Write a Python program to display calendar?"
   ]
  },
  {
   "cell_type": "code",
   "execution_count": 11,
   "id": "a752c4a2",
   "metadata": {},
   "outputs": [
    {
     "name": "stdout",
     "output_type": "stream",
     "text": [
      "    August 2022\n",
      "Mo Tu We Th Fr Sa Su\n",
      " 1  2  3  4  5  6  7\n",
      " 8  9 10 11 12 13 14\n",
      "15 16 17 18 19 20 21\n",
      "22 23 24 25 26 27 28\n",
      "29 30 31\n",
      "\n"
     ]
    }
   ],
   "source": [
    "import calendar as n\n",
    "year=2022\n",
    "month=8\n",
    "print(n.month(year,month))"
   ]
  },
  {
   "cell_type": "markdown",
   "id": "44372216",
   "metadata": {},
   "source": [
    "<h4>Write a Python program to solve quadratic equation?"
   ]
  },
  {
   "cell_type": "code",
   "execution_count": 2,
   "id": "4bd3af9c",
   "metadata": {},
   "outputs": [
    {
     "name": "stdout",
     "output_type": "stream",
     "text": [
      "enter the vale of coef of x-square term1\n",
      "enter the vale of coef of x term2\n",
      "enter the vale of constant-15\n",
      "(3+0j)\n",
      "(-5+0j)\n"
     ]
    }
   ],
   "source": [
    "import cmath as n\n",
    "\n",
    "# enter for the value for ax2 +bx + c\n",
    "\n",
    "a=float(input(\"enter the vale of coef of x-square term\"))\n",
    "b=float(input(\"enter the vale of coef of x term\"))\n",
    "c=float(input(\"enter the vale of constant\"))\n",
    "d=(b**2)-(4*a*c)\n",
    "sol1= (-b+n.sqrt(d))/(2*a)\n",
    "sol2= (-b-n.sqrt(d))/(2*a)\n",
    "print(sol1)\n",
    "print(sol2)\n"
   ]
  },
  {
   "cell_type": "markdown",
   "id": "830bb40c",
   "metadata": {},
   "source": [
    "<h4>Write a Python program to swap two variables without temp variable?"
   ]
  },
  {
   "cell_type": "code",
   "execution_count": 6,
   "id": "f5fb6575",
   "metadata": {},
   "outputs": [
    {
     "name": "stdout",
     "output_type": "stream",
     "text": [
      "enter first no10\n",
      "enter second no20\n",
      "swap value are\n",
      "20.0\n",
      "10.0\n"
     ]
    }
   ],
   "source": [
    "a=float(input(\"enter first no\"))\n",
    "b=float(input(\"enter second no\"))\n",
    "a=a+b\n",
    "b=a-b\n",
    "a=a-b\n",
    "print('swap value are')\n",
    "print(a)\n",
    "print(b)"
   ]
  },
  {
   "cell_type": "code",
   "execution_count": null,
   "id": "51171c8c",
   "metadata": {},
   "outputs": [],
   "source": []
  }
 ],
 "metadata": {
  "kernelspec": {
   "display_name": "Python 3",
   "language": "python",
   "name": "python3"
  },
  "language_info": {
   "codemirror_mode": {
    "name": "ipython",
    "version": 3
   },
   "file_extension": ".py",
   "mimetype": "text/x-python",
   "name": "python",
   "nbconvert_exporter": "python",
   "pygments_lexer": "ipython3",
   "version": "3.8.8"
  }
 },
 "nbformat": 4,
 "nbformat_minor": 5
}
